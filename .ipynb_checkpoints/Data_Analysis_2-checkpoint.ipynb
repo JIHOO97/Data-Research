{
 "cells": [
  {
   "cell_type": "markdown",
   "id": "74da108b",
   "metadata": {},
   "source": [
    "### Import libraries"
   ]
  },
  {
   "cell_type": "code",
   "execution_count": 3,
   "id": "d12da4cc",
   "metadata": {},
   "outputs": [],
   "source": [
    "import pandas as pd\n",
    "import seaborn as sns"
   ]
  },
  {
   "cell_type": "markdown",
   "id": "bc779613",
   "metadata": {},
   "source": [
    "### Import data"
   ]
  },
  {
   "cell_type": "code",
   "execution_count": 4,
   "id": "3add47b3",
   "metadata": {},
   "outputs": [
    {
     "data": {
      "text/html": [
       "<div>\n",
       "<style scoped>\n",
       "    .dataframe tbody tr th:only-of-type {\n",
       "        vertical-align: middle;\n",
       "    }\n",
       "\n",
       "    .dataframe tbody tr th {\n",
       "        vertical-align: top;\n",
       "    }\n",
       "\n",
       "    .dataframe thead th {\n",
       "        text-align: right;\n",
       "    }\n",
       "</style>\n",
       "<table border=\"1\" class=\"dataframe\">\n",
       "  <thead>\n",
       "    <tr style=\"text-align: right;\">\n",
       "      <th></th>\n",
       "      <th>Species</th>\n",
       "      <th>Subject</th>\n",
       "      <th>Date</th>\n",
       "      <th>Time</th>\n",
       "      <th>Phase</th>\n",
       "      <th>Block</th>\n",
       "      <th>Trial</th>\n",
       "      <th>ConfigID</th>\n",
       "      <th>Correct1</th>\n",
       "      <th>Correct2</th>\n",
       "      <th>...</th>\n",
       "      <th>Response3</th>\n",
       "      <th>RT1</th>\n",
       "      <th>RT2</th>\n",
       "      <th>RT3</th>\n",
       "      <th>ACC1</th>\n",
       "      <th>ACC2</th>\n",
       "      <th>ACC3</th>\n",
       "      <th>Score</th>\n",
       "      <th>Score2</th>\n",
       "      <th>Condition</th>\n",
       "    </tr>\n",
       "  </thead>\n",
       "  <tbody>\n",
       "    <tr>\n",
       "      <th>0</th>\n",
       "      <td>Human</td>\n",
       "      <td>EZ_06</td>\n",
       "      <td>2017-09-26</td>\n",
       "      <td>13:25:22</td>\n",
       "      <td>Exp</td>\n",
       "      <td>1</td>\n",
       "      <td>1</td>\n",
       "      <td>7</td>\n",
       "      <td>TopRight</td>\n",
       "      <td>TopLeft</td>\n",
       "      <td>...</td>\n",
       "      <td>BottomRight</td>\n",
       "      <td>1093</td>\n",
       "      <td>886.0</td>\n",
       "      <td>1530.0</td>\n",
       "      <td>1</td>\n",
       "      <td>1.0</td>\n",
       "      <td>1.0</td>\n",
       "      <td>1</td>\n",
       "      <td>0</td>\n",
       "      <td>BASE</td>\n",
       "    </tr>\n",
       "    <tr>\n",
       "      <th>1</th>\n",
       "      <td>Human</td>\n",
       "      <td>EZ_06</td>\n",
       "      <td>2017-09-26</td>\n",
       "      <td>13:25:28</td>\n",
       "      <td>Exp</td>\n",
       "      <td>1</td>\n",
       "      <td>2</td>\n",
       "      <td>16</td>\n",
       "      <td>BottomLeft</td>\n",
       "      <td>BottomRight</td>\n",
       "      <td>...</td>\n",
       "      <td>TopLeft</td>\n",
       "      <td>1107</td>\n",
       "      <td>778.0</td>\n",
       "      <td>963.0</td>\n",
       "      <td>1</td>\n",
       "      <td>1.0</td>\n",
       "      <td>1.0</td>\n",
       "      <td>1</td>\n",
       "      <td>0</td>\n",
       "      <td>BASE</td>\n",
       "    </tr>\n",
       "    <tr>\n",
       "      <th>2</th>\n",
       "      <td>Human</td>\n",
       "      <td>EZ_06</td>\n",
       "      <td>2017-09-26</td>\n",
       "      <td>13:25:35</td>\n",
       "      <td>Exp</td>\n",
       "      <td>1</td>\n",
       "      <td>3</td>\n",
       "      <td>5</td>\n",
       "      <td>TopLeft</td>\n",
       "      <td>BottomRight</td>\n",
       "      <td>...</td>\n",
       "      <td>BottomLeft</td>\n",
       "      <td>1260</td>\n",
       "      <td>951.0</td>\n",
       "      <td>1253.0</td>\n",
       "      <td>1</td>\n",
       "      <td>1.0</td>\n",
       "      <td>1.0</td>\n",
       "      <td>1</td>\n",
       "      <td>0</td>\n",
       "      <td>BASE</td>\n",
       "    </tr>\n",
       "    <tr>\n",
       "      <th>3</th>\n",
       "      <td>Human</td>\n",
       "      <td>EZ_06</td>\n",
       "      <td>2017-09-26</td>\n",
       "      <td>13:25:42</td>\n",
       "      <td>Exp</td>\n",
       "      <td>1</td>\n",
       "      <td>4</td>\n",
       "      <td>0</td>\n",
       "      <td>TopLeft</td>\n",
       "      <td>TopRight</td>\n",
       "      <td>...</td>\n",
       "      <td>BottomLeft</td>\n",
       "      <td>1069</td>\n",
       "      <td>954.0</td>\n",
       "      <td>1364.0</td>\n",
       "      <td>1</td>\n",
       "      <td>1.0</td>\n",
       "      <td>1.0</td>\n",
       "      <td>1</td>\n",
       "      <td>0</td>\n",
       "      <td>PROBE</td>\n",
       "    </tr>\n",
       "    <tr>\n",
       "      <th>4</th>\n",
       "      <td>Human</td>\n",
       "      <td>EZ_06</td>\n",
       "      <td>2017-09-26</td>\n",
       "      <td>13:25:47</td>\n",
       "      <td>Exp</td>\n",
       "      <td>1</td>\n",
       "      <td>5</td>\n",
       "      <td>2</td>\n",
       "      <td>TopLeft</td>\n",
       "      <td>BottomLeft</td>\n",
       "      <td>...</td>\n",
       "      <td>TopRight</td>\n",
       "      <td>901</td>\n",
       "      <td>864.0</td>\n",
       "      <td>813.0</td>\n",
       "      <td>1</td>\n",
       "      <td>1.0</td>\n",
       "      <td>1.0</td>\n",
       "      <td>1</td>\n",
       "      <td>0</td>\n",
       "      <td>BASE</td>\n",
       "    </tr>\n",
       "  </tbody>\n",
       "</table>\n",
       "<p>5 rows × 23 columns</p>\n",
       "</div>"
      ],
      "text/plain": [
       "  Species Subject        Date      Time Phase  Block  Trial  ConfigID  \\\n",
       "0   Human   EZ_06  2017-09-26  13:25:22   Exp      1      1         7   \n",
       "1   Human   EZ_06  2017-09-26  13:25:28   Exp      1      2        16   \n",
       "2   Human   EZ_06  2017-09-26  13:25:35   Exp      1      3         5   \n",
       "3   Human   EZ_06  2017-09-26  13:25:42   Exp      1      4         0   \n",
       "4   Human   EZ_06  2017-09-26  13:25:47   Exp      1      5         2   \n",
       "\n",
       "     Correct1     Correct2  ...    Response3   RT1    RT2     RT3  ACC1  ACC2  \\\n",
       "0    TopRight      TopLeft  ...  BottomRight  1093  886.0  1530.0     1   1.0   \n",
       "1  BottomLeft  BottomRight  ...      TopLeft  1107  778.0   963.0     1   1.0   \n",
       "2     TopLeft  BottomRight  ...   BottomLeft  1260  951.0  1253.0     1   1.0   \n",
       "3     TopLeft     TopRight  ...   BottomLeft  1069  954.0  1364.0     1   1.0   \n",
       "4     TopLeft   BottomLeft  ...     TopRight   901  864.0   813.0     1   1.0   \n",
       "\n",
       "   ACC3  Score  Score2  Condition  \n",
       "0   1.0      1       0       BASE  \n",
       "1   1.0      1       0       BASE  \n",
       "2   1.0      1       0       BASE  \n",
       "3   1.0      1       0      PROBE  \n",
       "4   1.0      1       0       BASE  \n",
       "\n",
       "[5 rows x 23 columns]"
      ]
     },
     "execution_count": 4,
     "metadata": {},
     "output_type": "execute_result"
    }
   ],
   "source": [
    "df = pd.read_csv('./dataset/cogset_exp.csv')\n",
    "df.head()"
   ]
  },
  {
   "cell_type": "markdown",
   "id": "df075282",
   "metadata": {},
   "source": [
    "### Count each species"
   ]
  },
  {
   "cell_type": "code",
   "execution_count": 5,
   "id": "41fe2ee4",
   "metadata": {},
   "outputs": [
    {
     "data": {
      "text/plain": [
       "{'Capuchin', 'Human', 'Rhesus'}"
      ]
     },
     "execution_count": 5,
     "metadata": {},
     "output_type": "execute_result"
    }
   ],
   "source": [
    "set(list(df.loc[:,'Species'].values))"
   ]
  },
  {
   "cell_type": "code",
   "execution_count": 6,
   "id": "bdf2011c",
   "metadata": {},
   "outputs": [
    {
     "data": {
      "text/plain": [
       "(10752, 3840, 1344)"
      ]
     },
     "execution_count": 6,
     "metadata": {},
     "output_type": "execute_result"
    }
   ],
   "source": [
    "num_of_human = df.loc[df['Species'] == 'Human'].count()[0]\n",
    "num_of_capuchins = df.loc[df['Species'] == 'Capuchin'].count()[0]\n",
    "num_of_rhesus = df.loc[df['Species'] == 'Rhesus'].count()[0]\n",
    "\n",
    "num_of_human, num_of_capuchins, num_of_rhesus"
   ]
  },
  {
   "cell_type": "code",
   "execution_count": 7,
   "id": "b195a2b7",
   "metadata": {
    "scrolled": true
   },
   "outputs": [
    {
     "data": {
      "text/plain": [
       "<AxesSubplot:xlabel='Species', ylabel='count'>"
      ]
     },
     "execution_count": 7,
     "metadata": {},
     "output_type": "execute_result"
    },
    {
     "data": {
      "image/png": "[encoded data removed]",
      "text/plain": [
       "<Figure size 432x288 with 1 Axes>"
      ]
     },
     "metadata": {
      "needs_background": "light"
     },
     "output_type": "display_data"
    }
   ],
   "source": [
    "sns.countplot(x='Species', data=df)"
   ]
  },
  {
   "cell_type": "markdown",
   "id": "f9578141",
   "metadata": {},
   "source": [
    "### Direct Strategy used"
   ]
  },
  {
   "cell_type": "code",
   "execution_count": 8,
   "id": "9fe89ce6",
   "metadata": {},
   "outputs": [],
   "source": [
    "### Select probe trials only\n",
    "probe_df = df.loc[df['Condition'] == 'PROBE']\n",
    "probe_df = probe_df.reset_index(drop=True)"
   ]
  },
  {
   "cell_type": "code",
   "execution_count": 9,
   "id": "067db438",
   "metadata": {},
   "outputs": [],
   "source": [
    "### Initialize direct strategy used for each id\n",
    "species_id_list = list(probe_df['Subject'])\n",
    "zeros = [0 for i in range(len(species_id_list))]\n",
    "d_species = dict(zip(species_id_list,zeros))"
   ]
  },
  {
   "cell_type": "code",
   "execution_count": 10,
   "id": "99631513",
   "metadata": {},
   "outputs": [],
   "source": [
    "### count the number the direct strategy used\n",
    "for i in range(len(probe_df)):\n",
    "    subject_id = probe_df.loc[i, 'Subject']\n",
    "    if probe_df.loc[i, 'Score2'] == 2:\n",
    "        d_species[subject_id] += 1"
   ]
  },
  {
   "cell_type": "code",
   "execution_count": 11,
   "id": "53756035",
   "metadata": {},
   "outputs": [],
   "source": [
    "### count how many trials each species have done\n",
    "species_ids = list(set(list(df['Subject'])))\n",
    "\n",
    "probe_trials = {}\n",
    "for s_ids in species_ids:\n",
    "    probe_trials[s_ids] = probe_df.loc[probe_df['Subject'] == s_ids].count()[0]"
   ]
  },
  {
   "cell_type": "code",
   "execution_count": 12,
   "id": "9aae164b",
   "metadata": {},
   "outputs": [],
   "source": [
    "for key in d_species:\n",
    "    d_species[key] /= probe_trials[key]\n",
    "    d_species[key] *= 100"
   ]
  },
  {
   "cell_type": "code",
   "execution_count": 13,
   "id": "d35928d6",
   "metadata": {},
   "outputs": [],
   "source": [
    "human_df = probe_df.loc[probe_df['Species'] == 'Human']\n",
    "human_subjects = list(set(list(human_df['Subject'])))\n",
    "\n",
    "capuchin_df = probe_df.loc[probe_df['Species'] == 'Capuchin']\n",
    "capuchin_subjects = list(set(list(capuchin_df['Subject'])))\n",
    "\n",
    "rhesus_df = probe_df.loc[probe_df['Species'] == 'Rhesus']\n",
    "rhesus_subjects = list(set(list(rhesus_df['Subject'])))"
   ]
  },
  {
   "cell_type": "code",
   "execution_count": 14,
   "id": "0fd67028",
   "metadata": {
    "collapsed": true
   },
   "outputs": [
    {
     "data": {
      "text/plain": [
       "([0.0,\n",
       "  0.0,\n",
       "  0.0,\n",
       "  0.0,\n",
       "  0.0,\n",
       "  0.0,\n",
       "  0.0,\n",
       "  0.0,\n",
       "  11.458333333333332,\n",
       "  92.70833333333334,\n",
       "  0.0,\n",
       "  41.66666666666667,\n",
       "  0.0,\n",
       "  50.0,\n",
       "  0.0,\n",
       "  0.0,\n",
       "  72.91666666666666,\n",
       "  0.0,\n",
       "  0.0,\n",
       "  0.0,\n",
       "  0.0,\n",
       "  0.0,\n",
       "  0.0,\n",
       "  0.0,\n",
       "  66.66666666666666,\n",
       "  90.625,\n",
       "  0.0,\n",
       "  12.5,\n",
       "  0.0,\n",
       "  0.0,\n",
       "  56.25,\n",
       "  43.75,\n",
       "  61.458333333333336,\n",
       "  17.708333333333336,\n",
       "  75.0,\n",
       "  92.70833333333334,\n",
       "  57.291666666666664,\n",
       "  0.0,\n",
       "  0.0,\n",
       "  0.0,\n",
       "  0.0,\n",
       "  53.125,\n",
       "  0.0,\n",
       "  0.0,\n",
       "  0.0,\n",
       "  40.625,\n",
       "  0.0,\n",
       "  56.25,\n",
       "  0.0,\n",
       "  6.25,\n",
       "  0.0,\n",
       "  90.625,\n",
       "  9.375,\n",
       "  76.04166666666666,\n",
       "  52.083333333333336,\n",
       "  0.0],\n",
       " [97.91666666666666,\n",
       "  89.58333333333334,\n",
       "  93.75,\n",
       "  59.375,\n",
       "  91.66666666666666,\n",
       "  100.0,\n",
       "  96.875,\n",
       "  98.95833333333334,\n",
       "  65.625,\n",
       "  85.41666666666666,\n",
       "  93.75,\n",
       "  88.54166666666666,\n",
       "  98.95833333333334,\n",
       "  91.66666666666666,\n",
       "  93.75,\n",
       "  100.0,\n",
       "  96.875,\n",
       "  93.75,\n",
       "  100.0,\n",
       "  100.0],\n",
       " [97.91666666666666,\n",
       "  88.54166666666666,\n",
       "  55.208333333333336,\n",
       "  8.333333333333332,\n",
       "  100.0,\n",
       "  100.0,\n",
       "  92.70833333333334])"
      ]
     },
     "execution_count": 14,
     "metadata": {},
     "output_type": "execute_result"
    }
   ],
   "source": [
    "human_ds, capuchin_ds, rhesus_ds = [], [], []\n",
    "\n",
    "for key in d_species:\n",
    "    if key in human_subjects:\n",
    "        human_ds.append(d_species[key])\n",
    "    elif key in capuchin_subjects:\n",
    "        capuchin_ds.append(d_species[key])\n",
    "    else:\n",
    "        rhesus_ds.append(d_species[key])\n",
    "\n",
    "human_ds, capuchin_ds, rhesus_ds"
   ]
  },
  {
   "cell_type": "code",
   "execution_count": 31,
   "id": "407fd89e",
   "metadata": {},
   "outputs": [],
   "source": [
    "### human\n",
    "human_list = []\n",
    "for ds in human_ds:\n",
    "    human_list.append(ds)\n",
    "    \n",
    "### capuchin\n",
    "capuchin_list = []\n",
    "for ds in capuchin_ds:\n",
    "    capuchin_list.append(ds)\n",
    "    \n",
    "### rhesus \n",
    "rhesus_list = []\n",
    "for ds in rhesus_ds:\n",
    "    rhesus_list.append(ds)"
   ]
  },
  {
   "cell_type": "code",
   "execution_count": 34,
   "id": "ba4484ce",
   "metadata": {},
   "outputs": [],
   "source": [
    "direct_df = pd.DataFrame(columns=['species', 'ds'])\n",
    "\n",
    "### human\n",
    "for i in range(len(human_list)):\n",
    "    direct_df.loc[i] = ['human'] + [human_list[i]]\n",
    "    \n",
    "### capuchin\n",
    "for i in range(len(capuchin_list)):\n",
    "    direct_df.loc[i] = ['capuchin'] + [capuchin_list[i]]\n",
    "    \n",
    "### rhesus\n",
    "for i in range(len(rhesus_list)):\n",
    "    direct_df.loc[i] = ['rhesus'] + [rhesus_list[i]]"
   ]
  },
  {
   "cell_type": "code",
   "execution_count": 35,
   "id": "29b145a2",
   "metadata": {},
   "outputs": [
    {
     "data": {
      "text/html": [
       "<div>\n",
       "<style scoped>\n",
       "    .dataframe tbody tr th:only-of-type {\n",
       "        vertical-align: middle;\n",
       "    }\n",
       "\n",
       "    .dataframe tbody tr th {\n",
       "        vertical-align: top;\n",
       "    }\n",
       "\n",
       "    .dataframe thead th {\n",
       "        text-align: right;\n",
       "    }\n",
       "</style>\n",
       "<table border=\"1\" class=\"dataframe\">\n",
       "  <thead>\n",
       "    <tr style=\"text-align: right;\">\n",
       "      <th></th>\n",
       "      <th>species</th>\n",
       "      <th>ds</th>\n",
       "    </tr>\n",
       "  </thead>\n",
       "  <tbody>\n",
       "    <tr>\n",
       "      <th>0</th>\n",
       "      <td>rhesus</td>\n",
       "      <td>97.916667</td>\n",
       "    </tr>\n",
       "    <tr>\n",
       "      <th>1</th>\n",
       "      <td>rhesus</td>\n",
       "      <td>88.541667</td>\n",
       "    </tr>\n",
       "    <tr>\n",
       "      <th>2</th>\n",
       "      <td>rhesus</td>\n",
       "      <td>55.208333</td>\n",
       "    </tr>\n",
       "    <tr>\n",
       "      <th>3</th>\n",
       "      <td>rhesus</td>\n",
       "      <td>8.333333</td>\n",
       "    </tr>\n",
       "    <tr>\n",
       "      <th>4</th>\n",
       "      <td>rhesus</td>\n",
       "      <td>100.000000</td>\n",
       "    </tr>\n",
       "  </tbody>\n",
       "</table>\n",
       "</div>"
      ],
      "text/plain": [
       "  species          ds\n",
       "0  rhesus   97.916667\n",
       "1  rhesus   88.541667\n",
       "2  rhesus   55.208333\n",
       "3  rhesus    8.333333\n",
       "4  rhesus  100.000000"
      ]
     },
     "execution_count": 35,
     "metadata": {},
     "output_type": "execute_result"
    }
   ],
   "source": [
    "direct_df.head()"
   ]
  },
  {
   "cell_type": "code",
   "execution_count": 36,
   "id": "f4883313",
   "metadata": {
    "scrolled": false
   },
   "outputs": [
    {
     "data": {
      "text/plain": [
       "<seaborn.axisgrid.FacetGrid at 0x21f4cc6fd90>"
      ]
     },
     "execution_count": 36,
     "metadata": {},
     "output_type": "execute_result"
    },
    {
     "data": {
      "image/png": "[encoded data removed]",
      "text/plain": [
       "<Figure size 360x360 with 1 Axes>"
      ]
     },
     "metadata": {
      "needs_background": "light"
     },
     "output_type": "display_data"
    }
   ],
   "source": [
    "sns.catplot(x='species', y='ds', data=direct_df)"
   ]
  },
  {
   "cell_type": "code",
   "execution_count": 44,
   "id": "dd4ac1d1",
   "metadata": {},
   "outputs": [
    {
     "data": {
      "text/plain": [
       "18"
      ]
     },
     "execution_count": 44,
     "metadata": {},
     "output_type": "execute_result"
    }
   ],
   "source": [
    "### how many people used 0 direct strategy?\n",
    "human_df = direct_df.loc[direct_df['species'] == 'human']\n",
    "human_df.loc[human_df['ds'] == 0].count()[0]"
   ]
  },
  {
   "cell_type": "markdown",
   "id": "85582d74",
   "metadata": {},
   "source": [
    "## Switch Strategy"
   ]
  },
  {
   "cell_type": "code",
   "execution_count": 87,
   "id": "b582e973",
   "metadata": {},
   "outputs": [],
   "source": [
    "### Select probe trials only\n",
    "probe_df = df.loc[df['Condition'] == 'PROBE']\n",
    "probe_df = probe_df.reset_index(drop=True)"
   ]
  },
  {
   "cell_type": "code",
   "execution_count": 88,
   "id": "55547a7b",
   "metadata": {},
   "outputs": [],
   "source": [
    "### Initialize switch strategy used for each id\n",
    "species_id_list = list(probe_df['Subject'])\n",
    "zeros = [0 for i in range(len(species_id_list))]\n",
    "d_species = dict(zip(species_id_list,zeros))"
   ]
  },
  {
   "cell_type": "code",
   "execution_count": 90,
   "id": "c2b42a6d",
   "metadata": {},
   "outputs": [],
   "source": [
    "### count the number the direct strategy used\n",
    "for i in range(len(probe_df)):\n",
    "    subject_id = probe_df.loc[i, 'Subject']\n",
    "    if probe_df.loc[i, 'Score2'] == 1:\n",
    "        d_species[subject_id] += 1"
   ]
  },
  {
   "cell_type": "code",
   "execution_count": 92,
   "id": "e4db8801",
   "metadata": {},
   "outputs": [],
   "source": [
    "### count how many trials each species have done\n",
    "species_ids = list(set(list(df['Subject'])))\n",
    "\n",
    "probe_trials = {}\n",
    "for s_ids in species_ids:\n",
    "    probe_trials[s_ids] = probe_df.loc[probe_df['Subject'] == s_ids].count()[0]"
   ]
  },
  {
   "cell_type": "code",
   "execution_count": 97,
   "id": "1fcac66c",
   "metadata": {},
   "outputs": [],
   "source": [
    "for key in d_species:\n",
    "    d_species[key] /= probe_trials[key]\n",
    "    d_species[key] *= 100"
   ]
  },
  {
   "cell_type": "code",
   "execution_count": 99,
   "id": "ee382202",
   "metadata": {},
   "outputs": [],
   "source": [
    "human_df = probe_df.loc[probe_df['Species'] == 'Human']\n",
    "human_subjects = list(set(list(human_df['Subject'])))\n",
    "\n",
    "capuchin_df = probe_df.loc[probe_df['Species'] == 'Capuchin']\n",
    "capuchin_subjects = list(set(list(capuchin_df['Subject'])))\n",
    "\n",
    "rhesus_df = probe_df.loc[probe_df['Species'] == 'Rhesus']\n",
    "rhesus_subjects = list(set(list(rhesus_df['Subject'])))"
   ]
  },
  {
   "cell_type": "code",
   "execution_count": 100,
   "id": "7c48549b",
   "metadata": {
    "collapsed": true
   },
   "outputs": [
    {
     "data": {
      "text/plain": [
       "([0.0,\n",
       "  0.0,\n",
       "  0.0,\n",
       "  0.0,\n",
       "  0.0,\n",
       "  0.0,\n",
       "  1.0416666666666665,\n",
       "  0.0,\n",
       "  39.58333333333333,\n",
       "  1.0416666666666665,\n",
       "  0.0,\n",
       "  0.0,\n",
       "  0.0,\n",
       "  2.083333333333333,\n",
       "  1.0416666666666665,\n",
       "  1.0416666666666665,\n",
       "  3.125,\n",
       "  0.0,\n",
       "  1.0416666666666665,\n",
       "  0.0,\n",
       "  0.0,\n",
       "  0.0,\n",
       "  0.0,\n",
       "  0.0,\n",
       "  3.125,\n",
       "  1.0416666666666665,\n",
       "  23.958333333333336,\n",
       "  13.541666666666666,\n",
       "  0.0,\n",
       "  65.625,\n",
       "  1.0416666666666665,\n",
       "  20.833333333333336,\n",
       "  25.0,\n",
       "  3.125,\n",
       "  0.0,\n",
       "  0.0,\n",
       "  6.25,\n",
       "  1.0416666666666665,\n",
       "  0.0,\n",
       "  0.0,\n",
       "  0.0,\n",
       "  5.208333333333334,\n",
       "  1.0416666666666665,\n",
       "  1.0416666666666665,\n",
       "  1.0416666666666665,\n",
       "  9.375,\n",
       "  0.0,\n",
       "  1.0416666666666665,\n",
       "  0.0,\n",
       "  3.125,\n",
       "  0.0,\n",
       "  2.083333333333333,\n",
       "  1.0416666666666665,\n",
       "  1.0416666666666665,\n",
       "  1.0416666666666665,\n",
       "  2.083333333333333],\n",
       " [2.083333333333333,\n",
       "  6.25,\n",
       "  3.125,\n",
       "  23.958333333333336,\n",
       "  6.25,\n",
       "  0.0,\n",
       "  0.0,\n",
       "  0.0,\n",
       "  28.125,\n",
       "  4.166666666666666,\n",
       "  1.0416666666666665,\n",
       "  2.083333333333333,\n",
       "  0.0,\n",
       "  7.291666666666667,\n",
       "  5.208333333333334,\n",
       "  0.0,\n",
       "  0.0,\n",
       "  5.208333333333334,\n",
       "  0.0,\n",
       "  0.0],\n",
       " [1.0416666666666665,\n",
       "  3.125,\n",
       "  20.833333333333336,\n",
       "  56.25,\n",
       "  0.0,\n",
       "  0.0,\n",
       "  4.166666666666666])"
      ]
     },
     "execution_count": 100,
     "metadata": {},
     "output_type": "execute_result"
    }
   ],
   "source": [
    "human_ds, capuchin_ds, rhesus_ds = [], [], []\n",
    "\n",
    "for key in d_species:\n",
    "    if key in human_subjects:\n",
    "        human_ds.append(d_species[key])\n",
    "    elif key in capuchin_subjects:\n",
    "        capuchin_ds.append(d_species[key])\n",
    "    else:\n",
    "        rhesus_ds.append(d_species[key])\n",
    "\n",
    "human_ds, capuchin_ds, rhesus_ds"
   ]
  },
  {
   "cell_type": "code",
   "execution_count": 101,
   "id": "a491d0d4",
   "metadata": {},
   "outputs": [],
   "source": [
    "### human\n",
    "human_list = []\n",
    "for ds in human_ds:\n",
    "    human_list.append(ds)\n",
    "    \n",
    "### capuchin\n",
    "capuchin_list = []\n",
    "for ds in capuchin_ds:\n",
    "    capuchin_list.append(ds)\n",
    "    \n",
    "### rhesus \n",
    "rhesus_list = []\n",
    "for ds in rhesus_ds:\n",
    "    rhesus_list.append(ds)"
   ]
  },
  {
   "cell_type": "code",
   "execution_count": 102,
   "id": "6f144153",
   "metadata": {},
   "outputs": [],
   "source": [
    "switch_df = pd.DataFrame(columns=['species', 'ds'])\n",
    "\n",
    "### human\n",
    "for i in range(len(human_list)):\n",
    "    switch_df.loc[i] = ['human'] + [human_list[i]]\n",
    "    \n",
    "### capuchin\n",
    "for i in range(len(capuchin_list)):\n",
    "    switch_df.loc[i] = ['capuchin'] + [capuchin_list[i]]\n",
    "    \n",
    "### rhesus\n",
    "for i in range(len(rhesus_list)):\n",
    "    switch_df.loc[i] = ['rhesus'] + [rhesus_list[i]]"
   ]
  },
  {
   "cell_type": "code",
   "execution_count": 103,
   "id": "8e6101ac",
   "metadata": {
    "scrolled": true
   },
   "outputs": [
    {
     "data": {
      "text/plain": [
       "<seaborn.axisgrid.FacetGrid at 0x21f4cd79e10>"
      ]
     },
     "execution_count": 103,
     "metadata": {},
     "output_type": "execute_result"
    },
    {
     "data": {
      "image/png": "[encoded data removed]",
      "text/plain": [
       "<Figure size 360x360 with 1 Axes>"
      ]
     },
     "metadata": {
      "needs_background": "light"
     },
     "output_type": "display_data"
    }
   ],
   "source": [
    "sns.catplot(x='species', y='ds', data=switch_df)"
   ]
  },
  {
   "cell_type": "markdown",
   "id": "df6fefb3",
   "metadata": {},
   "source": [
    "## Accuracy"
   ]
  },
  {
   "cell_type": "markdown",
   "id": "0a4cf36b",
   "metadata": {},
   "source": [
    "**BASE**"
   ]
  },
  {
   "cell_type": "code",
   "execution_count": 105,
   "id": "824ad29c",
   "metadata": {},
   "outputs": [
    {
     "data": {
      "text/html": [
       "<div>\n",
       "<style scoped>\n",
       "    .dataframe tbody tr th:only-of-type {\n",
       "        vertical-align: middle;\n",
       "    }\n",
       "\n",
       "    .dataframe tbody tr th {\n",
       "        vertical-align: top;\n",
       "    }\n",
       "\n",
       "    .dataframe thead th {\n",
       "        text-align: right;\n",
       "    }\n",
       "</style>\n",
       "<table border=\"1\" class=\"dataframe\">\n",
       "  <thead>\n",
       "    <tr style=\"text-align: right;\">\n",
       "      <th></th>\n",
       "      <th>Species</th>\n",
       "      <th>Subject</th>\n",
       "      <th>Date</th>\n",
       "      <th>Time</th>\n",
       "      <th>Phase</th>\n",
       "      <th>Block</th>\n",
       "      <th>Trial</th>\n",
       "      <th>ConfigID</th>\n",
       "      <th>Correct1</th>\n",
       "      <th>Correct2</th>\n",
       "      <th>...</th>\n",
       "      <th>Response3</th>\n",
       "      <th>RT1</th>\n",
       "      <th>RT2</th>\n",
       "      <th>RT3</th>\n",
       "      <th>ACC1</th>\n",
       "      <th>ACC2</th>\n",
       "      <th>ACC3</th>\n",
       "      <th>Score</th>\n",
       "      <th>Score2</th>\n",
       "      <th>Condition</th>\n",
       "    </tr>\n",
       "  </thead>\n",
       "  <tbody>\n",
       "    <tr>\n",
       "      <th>0</th>\n",
       "      <td>Human</td>\n",
       "      <td>EZ_06</td>\n",
       "      <td>2017-09-26</td>\n",
       "      <td>13:25:22</td>\n",
       "      <td>Exp</td>\n",
       "      <td>1</td>\n",
       "      <td>1</td>\n",
       "      <td>7</td>\n",
       "      <td>TopRight</td>\n",
       "      <td>TopLeft</td>\n",
       "      <td>...</td>\n",
       "      <td>BottomRight</td>\n",
       "      <td>1093</td>\n",
       "      <td>886.0</td>\n",
       "      <td>1530.0</td>\n",
       "      <td>1</td>\n",
       "      <td>1.0</td>\n",
       "      <td>1.0</td>\n",
       "      <td>1</td>\n",
       "      <td>0</td>\n",
       "      <td>BASE</td>\n",
       "    </tr>\n",
       "    <tr>\n",
       "      <th>1</th>\n",
       "      <td>Human</td>\n",
       "      <td>EZ_06</td>\n",
       "      <td>2017-09-26</td>\n",
       "      <td>13:25:28</td>\n",
       "      <td>Exp</td>\n",
       "      <td>1</td>\n",
       "      <td>2</td>\n",
       "      <td>16</td>\n",
       "      <td>BottomLeft</td>\n",
       "      <td>BottomRight</td>\n",
       "      <td>...</td>\n",
       "      <td>TopLeft</td>\n",
       "      <td>1107</td>\n",
       "      <td>778.0</td>\n",
       "      <td>963.0</td>\n",
       "      <td>1</td>\n",
       "      <td>1.0</td>\n",
       "      <td>1.0</td>\n",
       "      <td>1</td>\n",
       "      <td>0</td>\n",
       "      <td>BASE</td>\n",
       "    </tr>\n",
       "    <tr>\n",
       "      <th>2</th>\n",
       "      <td>Human</td>\n",
       "      <td>EZ_06</td>\n",
       "      <td>2017-09-26</td>\n",
       "      <td>13:25:35</td>\n",
       "      <td>Exp</td>\n",
       "      <td>1</td>\n",
       "      <td>3</td>\n",
       "      <td>5</td>\n",
       "      <td>TopLeft</td>\n",
       "      <td>BottomRight</td>\n",
       "      <td>...</td>\n",
       "      <td>BottomLeft</td>\n",
       "      <td>1260</td>\n",
       "      <td>951.0</td>\n",
       "      <td>1253.0</td>\n",
       "      <td>1</td>\n",
       "      <td>1.0</td>\n",
       "      <td>1.0</td>\n",
       "      <td>1</td>\n",
       "      <td>0</td>\n",
       "      <td>BASE</td>\n",
       "    </tr>\n",
       "    <tr>\n",
       "      <th>4</th>\n",
       "      <td>Human</td>\n",
       "      <td>EZ_06</td>\n",
       "      <td>2017-09-26</td>\n",
       "      <td>13:25:47</td>\n",
       "      <td>Exp</td>\n",
       "      <td>1</td>\n",
       "      <td>5</td>\n",
       "      <td>2</td>\n",
       "      <td>TopLeft</td>\n",
       "      <td>BottomLeft</td>\n",
       "      <td>...</td>\n",
       "      <td>TopRight</td>\n",
       "      <td>901</td>\n",
       "      <td>864.0</td>\n",
       "      <td>813.0</td>\n",
       "      <td>1</td>\n",
       "      <td>1.0</td>\n",
       "      <td>1.0</td>\n",
       "      <td>1</td>\n",
       "      <td>0</td>\n",
       "      <td>BASE</td>\n",
       "    </tr>\n",
       "    <tr>\n",
       "      <th>5</th>\n",
       "      <td>Human</td>\n",
       "      <td>EZ_06</td>\n",
       "      <td>2017-09-26</td>\n",
       "      <td>13:25:53</td>\n",
       "      <td>Exp</td>\n",
       "      <td>1</td>\n",
       "      <td>6</td>\n",
       "      <td>13</td>\n",
       "      <td>BottomLeft</td>\n",
       "      <td>TopLeft</td>\n",
       "      <td>...</td>\n",
       "      <td>BottomRight</td>\n",
       "      <td>1089</td>\n",
       "      <td>746.0</td>\n",
       "      <td>1189.0</td>\n",
       "      <td>1</td>\n",
       "      <td>1.0</td>\n",
       "      <td>1.0</td>\n",
       "      <td>1</td>\n",
       "      <td>0</td>\n",
       "      <td>BASE</td>\n",
       "    </tr>\n",
       "  </tbody>\n",
       "</table>\n",
       "<p>5 rows × 23 columns</p>\n",
       "</div>"
      ],
      "text/plain": [
       "  Species Subject        Date      Time Phase  Block  Trial  ConfigID  \\\n",
       "0   Human   EZ_06  2017-09-26  13:25:22   Exp      1      1         7   \n",
       "1   Human   EZ_06  2017-09-26  13:25:28   Exp      1      2        16   \n",
       "2   Human   EZ_06  2017-09-26  13:25:35   Exp      1      3         5   \n",
       "4   Human   EZ_06  2017-09-26  13:25:47   Exp      1      5         2   \n",
       "5   Human   EZ_06  2017-09-26  13:25:53   Exp      1      6        13   \n",
       "\n",
       "     Correct1     Correct2  ...    Response3   RT1    RT2     RT3  ACC1  ACC2  \\\n",
       "0    TopRight      TopLeft  ...  BottomRight  1093  886.0  1530.0     1   1.0   \n",
       "1  BottomLeft  BottomRight  ...      TopLeft  1107  778.0   963.0     1   1.0   \n",
       "2     TopLeft  BottomRight  ...   BottomLeft  1260  951.0  1253.0     1   1.0   \n",
       "4     TopLeft   BottomLeft  ...     TopRight   901  864.0   813.0     1   1.0   \n",
       "5  BottomLeft      TopLeft  ...  BottomRight  1089  746.0  1189.0     1   1.0   \n",
       "\n",
       "   ACC3  Score  Score2  Condition  \n",
       "0   1.0      1       0       BASE  \n",
       "1   1.0      1       0       BASE  \n",
       "2   1.0      1       0       BASE  \n",
       "4   1.0      1       0       BASE  \n",
       "5   1.0      1       0       BASE  \n",
       "\n",
       "[5 rows x 23 columns]"
      ]
     },
     "execution_count": 105,
     "metadata": {},
     "output_type": "execute_result"
    }
   ],
   "source": [
    "base_df = df.loc[df['Condition'] == 'BASE']\n",
    "base_df.head()"
   ]
  },
  {
   "cell_type": "code",
   "execution_count": 112,
   "id": "d0818ecd",
   "metadata": {},
   "outputs": [
    {
     "data": {
      "text/plain": [
       "(95.25669642857143, 74.27083333333333, 86.60714285714286)"
      ]
     },
     "execution_count": 112,
     "metadata": {},
     "output_type": "execute_result"
    }
   ],
   "source": [
    "human_base_df = base_df.loc[base_df['Species'] == 'Human']\n",
    "capuchin_base_df = base_df.loc[base_df['Species'] == 'Capuchin']\n",
    "rhesus_base_df = base_df.loc[base_df['Species'] == 'Rhesus']\n",
    "\n",
    "### number of incorrect trials\n",
    "human_incorrect = human_base_df.loc[human_base_df['Score'] == 0].count()[0]\n",
    "capuchin_incorrect = capuchin_base_df.loc[capuchin_base_df['Score'] == 0].count()[0]\n",
    "rhesus_incorrect = rhesus_base_df.loc[rhesus_base_df['Score'] == 0].count()[0]\n",
    "\n",
    "### total species\n",
    "total_human = human_base_df.count()[0]\n",
    "total_capuchin = capuchin_base_df.count()[0]\n",
    "total_rhesus = rhesus_base_df.count()[0]\n",
    "\n",
    "### accuracy\n",
    "human_acc = (1 - (human_incorrect/total_human)) * 100\n",
    "capuchin_acc = (1 - (capuchin_incorrect/total_capuchin)) * 100\n",
    "rhesus_acc = (1 - (rhesus_incorrect/total_rhesus)) * 100\n",
    "\n",
    "human_acc, capuchin_acc, rhesus_acc"
   ]
  },
  {
   "cell_type": "markdown",
   "id": "2320dd48",
   "metadata": {},
   "source": [
    "**PROBE**"
   ]
  },
  {
   "cell_type": "code",
   "execution_count": 111,
   "id": "7dad8a01",
   "metadata": {},
   "outputs": [
    {
     "data": {
      "text/html": [
       "<div>\n",
       "<style scoped>\n",
       "    .dataframe tbody tr th:only-of-type {\n",
       "        vertical-align: middle;\n",
       "    }\n",
       "\n",
       "    .dataframe tbody tr th {\n",
       "        vertical-align: top;\n",
       "    }\n",
       "\n",
       "    .dataframe thead th {\n",
       "        text-align: right;\n",
       "    }\n",
       "</style>\n",
       "<table border=\"1\" class=\"dataframe\">\n",
       "  <thead>\n",
       "    <tr style=\"text-align: right;\">\n",
       "      <th></th>\n",
       "      <th>Species</th>\n",
       "      <th>Subject</th>\n",
       "      <th>Date</th>\n",
       "      <th>Time</th>\n",
       "      <th>Phase</th>\n",
       "      <th>Block</th>\n",
       "      <th>Trial</th>\n",
       "      <th>ConfigID</th>\n",
       "      <th>Correct1</th>\n",
       "      <th>Correct2</th>\n",
       "      <th>...</th>\n",
       "      <th>Response3</th>\n",
       "      <th>RT1</th>\n",
       "      <th>RT2</th>\n",
       "      <th>RT3</th>\n",
       "      <th>ACC1</th>\n",
       "      <th>ACC2</th>\n",
       "      <th>ACC3</th>\n",
       "      <th>Score</th>\n",
       "      <th>Score2</th>\n",
       "      <th>Condition</th>\n",
       "    </tr>\n",
       "  </thead>\n",
       "  <tbody>\n",
       "    <tr>\n",
       "      <th>3</th>\n",
       "      <td>Human</td>\n",
       "      <td>EZ_06</td>\n",
       "      <td>2017-09-26</td>\n",
       "      <td>13:25:42</td>\n",
       "      <td>Exp</td>\n",
       "      <td>1</td>\n",
       "      <td>4</td>\n",
       "      <td>0</td>\n",
       "      <td>TopLeft</td>\n",
       "      <td>TopRight</td>\n",
       "      <td>...</td>\n",
       "      <td>BottomLeft</td>\n",
       "      <td>1069</td>\n",
       "      <td>954.0</td>\n",
       "      <td>1364.0</td>\n",
       "      <td>1</td>\n",
       "      <td>1.0</td>\n",
       "      <td>1.0</td>\n",
       "      <td>1</td>\n",
       "      <td>0</td>\n",
       "      <td>PROBE</td>\n",
       "    </tr>\n",
       "    <tr>\n",
       "      <th>8</th>\n",
       "      <td>Human</td>\n",
       "      <td>EZ_06</td>\n",
       "      <td>2017-09-26</td>\n",
       "      <td>13:26:10</td>\n",
       "      <td>Exp</td>\n",
       "      <td>1</td>\n",
       "      <td>9</td>\n",
       "      <td>21</td>\n",
       "      <td>BottomRight</td>\n",
       "      <td>TopRight</td>\n",
       "      <td>...</td>\n",
       "      <td>BottomLeft</td>\n",
       "      <td>847</td>\n",
       "      <td>727.0</td>\n",
       "      <td>1207.0</td>\n",
       "      <td>1</td>\n",
       "      <td>1.0</td>\n",
       "      <td>1.0</td>\n",
       "      <td>1</td>\n",
       "      <td>0</td>\n",
       "      <td>PROBE</td>\n",
       "    </tr>\n",
       "    <tr>\n",
       "      <th>9</th>\n",
       "      <td>Human</td>\n",
       "      <td>EZ_06</td>\n",
       "      <td>2017-09-26</td>\n",
       "      <td>13:26:16</td>\n",
       "      <td>Exp</td>\n",
       "      <td>1</td>\n",
       "      <td>10</td>\n",
       "      <td>19</td>\n",
       "      <td>BottomRight</td>\n",
       "      <td>TopLeft</td>\n",
       "      <td>...</td>\n",
       "      <td>BottomLeft</td>\n",
       "      <td>1067</td>\n",
       "      <td>882.0</td>\n",
       "      <td>1188.0</td>\n",
       "      <td>1</td>\n",
       "      <td>1.0</td>\n",
       "      <td>1.0</td>\n",
       "      <td>1</td>\n",
       "      <td>0</td>\n",
       "      <td>PROBE</td>\n",
       "    </tr>\n",
       "    <tr>\n",
       "      <th>11</th>\n",
       "      <td>Human</td>\n",
       "      <td>EZ_06</td>\n",
       "      <td>2017-09-26</td>\n",
       "      <td>13:26:28</td>\n",
       "      <td>Exp</td>\n",
       "      <td>1</td>\n",
       "      <td>12</td>\n",
       "      <td>15</td>\n",
       "      <td>BottomLeft</td>\n",
       "      <td>TopRight</td>\n",
       "      <td>...</td>\n",
       "      <td>BottomRight</td>\n",
       "      <td>914</td>\n",
       "      <td>759.0</td>\n",
       "      <td>1122.0</td>\n",
       "      <td>1</td>\n",
       "      <td>1.0</td>\n",
       "      <td>1.0</td>\n",
       "      <td>1</td>\n",
       "      <td>0</td>\n",
       "      <td>PROBE</td>\n",
       "    </tr>\n",
       "    <tr>\n",
       "      <th>12</th>\n",
       "      <td>Human</td>\n",
       "      <td>EZ_06</td>\n",
       "      <td>2017-09-26</td>\n",
       "      <td>13:26:34</td>\n",
       "      <td>Exp</td>\n",
       "      <td>1</td>\n",
       "      <td>13</td>\n",
       "      <td>11</td>\n",
       "      <td>TopRight</td>\n",
       "      <td>BottomRight</td>\n",
       "      <td>...</td>\n",
       "      <td>BottomLeft</td>\n",
       "      <td>916</td>\n",
       "      <td>781.0</td>\n",
       "      <td>1344.0</td>\n",
       "      <td>1</td>\n",
       "      <td>1.0</td>\n",
       "      <td>1.0</td>\n",
       "      <td>1</td>\n",
       "      <td>0</td>\n",
       "      <td>PROBE</td>\n",
       "    </tr>\n",
       "  </tbody>\n",
       "</table>\n",
       "<p>5 rows × 23 columns</p>\n",
       "</div>"
      ],
      "text/plain": [
       "   Species Subject        Date      Time Phase  Block  Trial  ConfigID  \\\n",
       "3    Human   EZ_06  2017-09-26  13:25:42   Exp      1      4         0   \n",
       "8    Human   EZ_06  2017-09-26  13:26:10   Exp      1      9        21   \n",
       "9    Human   EZ_06  2017-09-26  13:26:16   Exp      1     10        19   \n",
       "11   Human   EZ_06  2017-09-26  13:26:28   Exp      1     12        15   \n",
       "12   Human   EZ_06  2017-09-26  13:26:34   Exp      1     13        11   \n",
       "\n",
       "       Correct1     Correct2  ...    Response3   RT1    RT2     RT3  ACC1  \\\n",
       "3       TopLeft     TopRight  ...   BottomLeft  1069  954.0  1364.0     1   \n",
       "8   BottomRight     TopRight  ...   BottomLeft   847  727.0  1207.0     1   \n",
       "9   BottomRight      TopLeft  ...   BottomLeft  1067  882.0  1188.0     1   \n",
       "11   BottomLeft     TopRight  ...  BottomRight   914  759.0  1122.0     1   \n",
       "12     TopRight  BottomRight  ...   BottomLeft   916  781.0  1344.0     1   \n",
       "\n",
       "    ACC2  ACC3  Score  Score2  Condition  \n",
       "3    1.0   1.0      1       0      PROBE  \n",
       "8    1.0   1.0      1       0      PROBE  \n",
       "9    1.0   1.0      1       0      PROBE  \n",
       "11   1.0   1.0      1       0      PROBE  \n",
       "12   1.0   1.0      1       0      PROBE  \n",
       "\n",
       "[5 rows x 23 columns]"
      ]
     },
     "execution_count": 111,
     "metadata": {},
     "output_type": "execute_result"
    }
   ],
   "source": [
    "probe_df = df.loc[df['Condition'] == 'PROBE']\n",
    "probe_df.head()"
   ]
  },
  {
   "cell_type": "code",
   "execution_count": 113,
   "id": "4a81494b",
   "metadata": {},
   "outputs": [
    {
     "data": {
      "text/plain": [
       "(98.046875, 97.1875, 96.875)"
      ]
     },
     "execution_count": 113,
     "metadata": {},
     "output_type": "execute_result"
    }
   ],
   "source": [
    "human_probe_df = probe_df.loc[probe_df['Species'] == 'Human']\n",
    "capuchin_probe_df = probe_df.loc[probe_df['Species'] == 'Capuchin']\n",
    "rhesus_probe_df = probe_df.loc[probe_df['Species'] == 'Rhesus']\n",
    "\n",
    "### number of incorrect trials\n",
    "human_probe_incorrect = human_probe_df.loc[human_probe_df['Score'] == 0].count()[0]\n",
    "capuchin_probe_incorrect = capuchin_probe_df.loc[capuchin_probe_df['Score'] == 0].count()[0]\n",
    "rhesus_probe_incorrect = rhesus_probe_df.loc[rhesus_probe_df['Score'] == 0].count()[0]\n",
    "\n",
    "### total species\n",
    "total_probe_human = human_probe_df.count()[0]\n",
    "total_probe_capuchin = capuchin_probe_df.count()[0]\n",
    "total_probe_rhesus = rhesus_probe_df.count()[0]\n",
    "\n",
    "### accuracy\n",
    "human_probe_acc = (1 - (human_probe_incorrect/total_probe_human)) * 100\n",
    "capuchin_probe_acc = (1 - (capuchin_probe_incorrect/total_probe_capuchin)) * 100\n",
    "rhesus_probe_acc = (1 - (rhesus_probe_incorrect/total_probe_rhesus)) * 100\n",
    "\n",
    "human_probe_acc, capuchin_probe_acc, rhesus_probe_acc"
   ]
  },
  {
   "cell_type": "code",
   "execution_count": 115,
   "id": "7d0307a8",
   "metadata": {
    "scrolled": true
   },
   "outputs": [
    {
     "data": {
      "text/html": [
       "<div>\n",
       "<style scoped>\n",
       "    .dataframe tbody tr th:only-of-type {\n",
       "        vertical-align: middle;\n",
       "    }\n",
       "\n",
       "    .dataframe tbody tr th {\n",
       "        vertical-align: top;\n",
       "    }\n",
       "\n",
       "    .dataframe thead th {\n",
       "        text-align: right;\n",
       "    }\n",
       "</style>\n",
       "<table border=\"1\" class=\"dataframe\">\n",
       "  <thead>\n",
       "    <tr style=\"text-align: right;\">\n",
       "      <th></th>\n",
       "      <th>Condition</th>\n",
       "      <th>Species</th>\n",
       "      <th>Accuracy</th>\n",
       "    </tr>\n",
       "  </thead>\n",
       "  <tbody>\n",
       "    <tr>\n",
       "      <th>0</th>\n",
       "      <td>BASE</td>\n",
       "      <td>human</td>\n",
       "      <td>95.256696</td>\n",
       "    </tr>\n",
       "    <tr>\n",
       "      <th>1</th>\n",
       "      <td>BASE</td>\n",
       "      <td>capuchin</td>\n",
       "      <td>74.270833</td>\n",
       "    </tr>\n",
       "    <tr>\n",
       "      <th>2</th>\n",
       "      <td>BASE</td>\n",
       "      <td>rhesus</td>\n",
       "      <td>86.607143</td>\n",
       "    </tr>\n",
       "    <tr>\n",
       "      <th>3</th>\n",
       "      <td>PROBE</td>\n",
       "      <td>human</td>\n",
       "      <td>98.046875</td>\n",
       "    </tr>\n",
       "    <tr>\n",
       "      <th>4</th>\n",
       "      <td>PROBE</td>\n",
       "      <td>capuchin</td>\n",
       "      <td>97.187500</td>\n",
       "    </tr>\n",
       "    <tr>\n",
       "      <th>5</th>\n",
       "      <td>PROBE</td>\n",
       "      <td>rhesus</td>\n",
       "      <td>96.875000</td>\n",
       "    </tr>\n",
       "  </tbody>\n",
       "</table>\n",
       "</div>"
      ],
      "text/plain": [
       "  Condition   Species   Accuracy\n",
       "0      BASE     human  95.256696\n",
       "1      BASE  capuchin  74.270833\n",
       "2      BASE    rhesus  86.607143\n",
       "3     PROBE     human  98.046875\n",
       "4     PROBE  capuchin  97.187500\n",
       "5     PROBE    rhesus  96.875000"
      ]
     },
     "execution_count": 115,
     "metadata": {},
     "output_type": "execute_result"
    }
   ],
   "source": [
    "accuracy_df = pd.DataFrame(columns=['Condition', 'Species', 'Accuracy'])\n",
    "\n",
    "### BASE\n",
    "accuracy_df.loc[0] = ['BASE'] + ['human'] + [human_acc]\n",
    "accuracy_df.loc[1] = ['BASE'] + ['capuchin'] + [capuchin_acc]\n",
    "accuracy_df.loc[2] = ['BASE'] + ['rhesus'] + [rhesus_acc]\n",
    "\n",
    "### PROBE\n",
    "accuracy_df.loc[3] = ['PROBE'] + ['human'] + [human_probe_acc]\n",
    "accuracy_df.loc[4] = ['PROBE'] + ['capuchin'] + [capuchin_probe_acc]\n",
    "accuracy_df.loc[5] = ['PROBE'] + ['rhesus'] + [rhesus_probe_acc]\n",
    "\n",
    "accuracy_df"
   ]
  },
  {
   "cell_type": "code",
   "execution_count": 127,
   "id": "2609a23e",
   "metadata": {},
   "outputs": [
    {
     "data": {
      "text/plain": [
       "<seaborn.axisgrid.FacetGrid at 0x21f50580550>"
      ]
     },
     "execution_count": 127,
     "metadata": {},
     "output_type": "execute_result"
    },
    {
     "data": {
      "image/png": "[encoded data removed]",
      "text/plain": [
       "<Figure size 441.375x360 with 1 Axes>"
      ]
     },
     "metadata": {
      "needs_background": "light"
     },
     "output_type": "display_data"
    }
   ],
   "source": [
    "sns.relplot(x='Condition', y='Accuracy', data=accuracy_df, kind='line', hue='Species', markers=[\"o\", \"o\", \"o\"])"
   ]
  }
 ],
 "metadata": {
  "kernelspec": {
   "display_name": "Python 3 (ipykernel)",
   "language": "python",
   "name": "python3"
  },
  "language_info": {
   "codemirror_mode": {
    "name": "ipython",
    "version": 3
   },
   "file_extension": ".py",
   "mimetype": "text/x-python",
   "name": "python",
   "nbconvert_exporter": "python",
   "pygments_lexer": "ipython3",
   "version": "3.8.10"
  }
 },
 "nbformat": 4,
 "nbformat_minor": 5
}
